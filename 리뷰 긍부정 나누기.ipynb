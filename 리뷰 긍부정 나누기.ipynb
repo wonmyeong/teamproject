{
 "cells": [
  {
   "cell_type": "code",
   "execution_count": 1,
   "id": "cfb1cd26",
   "metadata": {},
   "outputs": [],
   "source": [
    "import pandas as pd\n",
    "from pandas import DataFrame\n",
    "from pandas import Series\n",
    "import numpy as np\n",
    "import re"
   ]
  },
  {
   "cell_type": "code",
   "execution_count": 2,
   "id": "1c76c9d4",
   "metadata": {},
   "outputs": [],
   "source": [
    "pos_df = pd.read_csv(\"230622_202641pos_sunscreen.csv\",encoding=\"cp949\")\n"
   ]
  },
  {
   "cell_type": "code",
   "execution_count": 3,
   "id": "e2bf3505",
   "metadata": {},
   "outputs": [],
   "source": [
    "text=''\n",
    "review=[]\n",
    "for each_review in pos_df['리뷰']:\n",
    "    each_review = re.sub(r\"[^\\uAC00-\\uD7A30-9a-zA-Z\\s]\", \"\", each_review)\n",
    "    review.append(each_review)"
   ]
  },
  {
   "cell_type": "code",
   "execution_count": 4,
   "id": "4cb9f913",
   "metadata": {
    "scrolled": true
   },
   "outputs": [
    {
     "data": {
      "text/html": [
       "<div>\n",
       "<style scoped>\n",
       "    .dataframe tbody tr th:only-of-type {\n",
       "        vertical-align: middle;\n",
       "    }\n",
       "\n",
       "    .dataframe tbody tr th {\n",
       "        vertical-align: top;\n",
       "    }\n",
       "\n",
       "    .dataframe thead th {\n",
       "        text-align: right;\n",
       "    }\n",
       "</style>\n",
       "<table border=\"1\" class=\"dataframe\">\n",
       "  <thead>\n",
       "    <tr style=\"text-align: right;\">\n",
       "      <th></th>\n",
       "      <th>상품이름</th>\n",
       "      <th>유저 ID</th>\n",
       "      <th>유저평점</th>\n",
       "      <th>review</th>\n",
       "    </tr>\n",
       "  </thead>\n",
       "  <tbody>\n",
       "    <tr>\n",
       "      <th>0</th>\n",
       "      <td>김정문알로에 큐어 알로에 수딩젤 리뉴얼 150ml 1+1기획</td>\n",
       "      <td>소보르빵</td>\n",
       "      <td>5</td>\n",
       "      <td>몸에 땀띠가 나서 구입했는데냉장고에 넣고 사용하니 너무 시원하고 쿨링감도 오래가서 좋네요</td>\n",
       "    </tr>\n",
       "    <tr>\n",
       "      <th>1</th>\n",
       "      <td>김정문알로에 큐어 알로에 수딩젤 리뉴얼 150ml 1+1기획</td>\n",
       "      <td>Haneulmotd</td>\n",
       "      <td>5</td>\n",
       "      <td>피부에 열감이 오르는 여름에 사용하기 너무 좋아요화장 전 사용해도 때처럼 밀리지 않...</td>\n",
       "    </tr>\n",
       "    <tr>\n",
       "      <th>2</th>\n",
       "      <td>김정문알로에 큐어 알로에 수딩젤 리뉴얼 150ml 1+1기획</td>\n",
       "      <td>스트로베리베리베리</td>\n",
       "      <td>5</td>\n",
       "      <td>김정문 알로에 제품 유명하죠 올리브영에 언제 생긴 진 모르겠지만 궁금해서 샀습니다 ...</td>\n",
       "    </tr>\n",
       "    <tr>\n",
       "      <th>3</th>\n",
       "      <td>김정문알로에 큐어 알로에 수딩젤 리뉴얼 150ml 1+1기획</td>\n",
       "      <td>멘탈짱짱</td>\n",
       "      <td>5</td>\n",
       "      <td>빠른 진정이 필요할 땐 알로에겔 듬뿍 올려주면 수면팩처럼 사용 가능해요</td>\n",
       "    </tr>\n",
       "    <tr>\n",
       "      <th>4</th>\n",
       "      <td>김정문알로에 큐어 알로에 수딩젤 리뉴얼 150ml 1+1기획</td>\n",
       "      <td>쇼꿍</td>\n",
       "      <td>5</td>\n",
       "      <td>알로에 젤이 좋은건 알고 있었는데 김정문 알로에는 처음알았는데 유명하더라구요 이거 ...</td>\n",
       "    </tr>\n",
       "    <tr>\n",
       "      <th>...</th>\n",
       "      <td>...</td>\n",
       "      <td>...</td>\n",
       "      <td>...</td>\n",
       "      <td>...</td>\n",
       "    </tr>\n",
       "    <tr>\n",
       "      <th>95</th>\n",
       "      <td>김정문알로에 큐어 알로에 수딩젤 리뉴얼 150ml 1+1기획</td>\n",
       "      <td>꼬물꼬물e</td>\n",
       "      <td>5</td>\n",
       "      <td>쫀득쫀득한 김정문 알로에 내돈내산 한달 후 후기입니다 저는 건성피부이기 때문에 년 ...</td>\n",
       "    </tr>\n",
       "    <tr>\n",
       "      <th>96</th>\n",
       "      <td>김정문알로에 큐어 알로에 수딩젤 리뉴얼 150ml 1+1기획</td>\n",
       "      <td>꼬물꼬물e</td>\n",
       "      <td>5</td>\n",
       "      <td>쫀득쫀득한 김정문 알로에 내돈내산 후기입니다 우선 저는 건성피부를 가졌기 때문에 년...</td>\n",
       "    </tr>\n",
       "    <tr>\n",
       "      <th>97</th>\n",
       "      <td>김정문알로에 큐어 알로에 수딩젤 리뉴얼 150ml 1+1기획</td>\n",
       "      <td>계란투라이</td>\n",
       "      <td>4</td>\n",
       "      <td>김정문 알로에젤이 계속 광고로 뜨기도 했고 엄마도 어디서 들으셨는지 좋다했다고 한번...</td>\n",
       "    </tr>\n",
       "    <tr>\n",
       "      <th>98</th>\n",
       "      <td>김정문알로에 큐어 알로에 수딩젤 리뉴얼 150ml 1+1기획</td>\n",
       "      <td>계란투라이</td>\n",
       "      <td>4</td>\n",
       "      <td>김정문 알로에젤이 계속 광고로 뜨기도 했고 엄마도 어디서 들으셨는지 좋다했다고 한번...</td>\n",
       "    </tr>\n",
       "    <tr>\n",
       "      <th>99</th>\n",
       "      <td>김정문알로에 큐어 알로에 수딩젤 리뉴얼 150ml 1+1기획</td>\n",
       "      <td>몽투</td>\n",
       "      <td>5</td>\n",
       "      <td>디렉터파이 유튜브보고 팩에 섞어서 함께 여름에 사용했어요 진정효과가 너무 좋았고 냉...</td>\n",
       "    </tr>\n",
       "  </tbody>\n",
       "</table>\n",
       "<p>100 rows × 4 columns</p>\n",
       "</div>"
      ],
      "text/plain": [
       "                                 상품이름       유저 ID  유저평점  \\\n",
       "0   김정문알로에 큐어 알로에 수딩젤 리뉴얼 150ml 1+1기획        소보르빵     5   \n",
       "1   김정문알로에 큐어 알로에 수딩젤 리뉴얼 150ml 1+1기획  Haneulmotd     5   \n",
       "2   김정문알로에 큐어 알로에 수딩젤 리뉴얼 150ml 1+1기획   스트로베리베리베리     5   \n",
       "3   김정문알로에 큐어 알로에 수딩젤 리뉴얼 150ml 1+1기획        멘탈짱짱     5   \n",
       "4   김정문알로에 큐어 알로에 수딩젤 리뉴얼 150ml 1+1기획          쇼꿍     5   \n",
       "..                                ...         ...   ...   \n",
       "95  김정문알로에 큐어 알로에 수딩젤 리뉴얼 150ml 1+1기획       꼬물꼬물e     5   \n",
       "96  김정문알로에 큐어 알로에 수딩젤 리뉴얼 150ml 1+1기획       꼬물꼬물e     5   \n",
       "97  김정문알로에 큐어 알로에 수딩젤 리뉴얼 150ml 1+1기획       계란투라이     4   \n",
       "98  김정문알로에 큐어 알로에 수딩젤 리뉴얼 150ml 1+1기획       계란투라이     4   \n",
       "99  김정문알로에 큐어 알로에 수딩젤 리뉴얼 150ml 1+1기획          몽투     5   \n",
       "\n",
       "                                               review  \n",
       "0   몸에 땀띠가 나서 구입했는데냉장고에 넣고 사용하니 너무 시원하고 쿨링감도 오래가서 좋네요  \n",
       "1   피부에 열감이 오르는 여름에 사용하기 너무 좋아요화장 전 사용해도 때처럼 밀리지 않...  \n",
       "2   김정문 알로에 제품 유명하죠 올리브영에 언제 생긴 진 모르겠지만 궁금해서 샀습니다 ...  \n",
       "3             빠른 진정이 필요할 땐 알로에겔 듬뿍 올려주면 수면팩처럼 사용 가능해요  \n",
       "4   알로에 젤이 좋은건 알고 있었는데 김정문 알로에는 처음알았는데 유명하더라구요 이거 ...  \n",
       "..                                                ...  \n",
       "95  쫀득쫀득한 김정문 알로에 내돈내산 한달 후 후기입니다 저는 건성피부이기 때문에 년 ...  \n",
       "96  쫀득쫀득한 김정문 알로에 내돈내산 후기입니다 우선 저는 건성피부를 가졌기 때문에 년...  \n",
       "97  김정문 알로에젤이 계속 광고로 뜨기도 했고 엄마도 어디서 들으셨는지 좋다했다고 한번...  \n",
       "98  김정문 알로에젤이 계속 광고로 뜨기도 했고 엄마도 어디서 들으셨는지 좋다했다고 한번...  \n",
       "99  디렉터파이 유튜브보고 팩에 섞어서 함께 여름에 사용했어요 진정효과가 너무 좋았고 냉...  \n",
       "\n",
       "[100 rows x 4 columns]"
      ]
     },
     "execution_count": 4,
     "metadata": {},
     "output_type": "execute_result"
    }
   ],
   "source": [
    "pos_df = pos_df.drop(['리뷰'], axis=1)\n",
    "pos_df['review'] = review\n",
    "pos_df"
   ]
  },
  {
   "cell_type": "code",
   "execution_count": 5,
   "id": "a7381296",
   "metadata": {},
   "outputs": [],
   "source": [
    "from konlpy.tag import Mecab\n",
    "import pandas as pd\n",
    "import matplotlib as mpl\n",
    "from gensim.models import Word2Vec\n",
    "import numpy as np\n",
    "from konlpy.tag import Okt\n",
    "okt = Okt()\n",
    "# okt.nouns(pos_df['review'][0])\n",
    "pos_keywords_list=[]\n",
    "for i in range(0,len(pos_df['review'])):\n",
    "    okt = Okt()\n",
    "    pos_keyword = okt.nouns(pos_df['review'][i])\n",
    "    \n",
    "    pos_keywords_list.extend(pos_keyword)"
   ]
  },
  {
   "cell_type": "code",
   "execution_count": 6,
   "id": "6d60149f",
   "metadata": {},
   "outputs": [
    {
     "data": {
      "text/plain": [
       "1347"
      ]
     },
     "execution_count": 6,
     "metadata": {},
     "output_type": "execute_result"
    }
   ],
   "source": [
    "len(pos_keywords_list)"
   ]
  },
  {
   "cell_type": "code",
   "execution_count": 7,
   "id": "1bb8c706",
   "metadata": {},
   "outputs": [],
   "source": [
    "df_word_count = pd.DataFrame()\n",
    "word_cloud_dict = {}\n",
    "\n",
    "word_list = list(set(pos_keywords_list))\n",
    "word_cnt_list = []"
   ]
  },
  {
   "cell_type": "code",
   "execution_count": 8,
   "id": "cb97ac70",
   "metadata": {},
   "outputs": [
    {
     "name": "stderr",
     "output_type": "stream",
     "text": [
      "100%|█████████████████████████████████████████████████████████████████████████████| 446/446 [00:00<00:00, 33536.39it/s]\n"
     ]
    }
   ],
   "source": [
    "from tqdm import tqdm\n",
    "word_list_1=[]\n",
    "i=0\n",
    "for word in tqdm(word_list):\n",
    "    \n",
    "    \n",
    "    if len(word) != 1:\n",
    "        word_list_1.append(word)\n",
    "\n",
    "        word_cnt = pos_keywords_list.count(word)\n",
    "        word_cnt_list.append(word_cnt)\n",
    "        word_cloud_dict[word] = word_cnt\n",
    "        i+=1\n",
    "    else:\n",
    "        pass"
   ]
  },
  {
   "cell_type": "code",
   "execution_count": 12,
   "id": "650aaeb8",
   "metadata": {
    "scrolled": false
   },
   "outputs": [
    {
     "data": {
      "text/html": [
       "<div>\n",
       "<style scoped>\n",
       "    .dataframe tbody tr th:only-of-type {\n",
       "        vertical-align: middle;\n",
       "    }\n",
       "\n",
       "    .dataframe tbody tr th {\n",
       "        vertical-align: top;\n",
       "    }\n",
       "\n",
       "    .dataframe thead th {\n",
       "        text-align: right;\n",
       "    }\n",
       "</style>\n",
       "<table border=\"1\" class=\"dataframe\">\n",
       "  <thead>\n",
       "    <tr style=\"text-align: right;\">\n",
       "      <th></th>\n",
       "      <th>word</th>\n",
       "      <th>word_cnt</th>\n",
       "    </tr>\n",
       "  </thead>\n",
       "  <tbody>\n",
       "    <tr>\n",
       "      <th>220</th>\n",
       "      <td>알로</td>\n",
       "      <td>71</td>\n",
       "    </tr>\n",
       "    <tr>\n",
       "      <th>22</th>\n",
       "      <td>피부</td>\n",
       "      <td>37</td>\n",
       "    </tr>\n",
       "    <tr>\n",
       "      <th>105</th>\n",
       "      <td>제품</td>\n",
       "      <td>36</td>\n",
       "    </tr>\n",
       "    <tr>\n",
       "      <th>15</th>\n",
       "      <td>진정</td>\n",
       "      <td>36</td>\n",
       "    </tr>\n",
       "    <tr>\n",
       "      <th>262</th>\n",
       "      <td>김정문</td>\n",
       "      <td>33</td>\n",
       "    </tr>\n",
       "    <tr>\n",
       "      <th>195</th>\n",
       "      <td>사용</td>\n",
       "      <td>32</td>\n",
       "    </tr>\n",
       "    <tr>\n",
       "      <th>179</th>\n",
       "      <td>구매</td>\n",
       "      <td>28</td>\n",
       "    </tr>\n",
       "    <tr>\n",
       "      <th>136</th>\n",
       "      <td>여름</td>\n",
       "      <td>22</td>\n",
       "    </tr>\n",
       "    <tr>\n",
       "      <th>94</th>\n",
       "      <td>얼굴</td>\n",
       "      <td>16</td>\n",
       "    </tr>\n",
       "    <tr>\n",
       "      <th>211</th>\n",
       "      <td>자극</td>\n",
       "      <td>16</td>\n",
       "    </tr>\n",
       "    <tr>\n",
       "      <th>202</th>\n",
       "      <td>효과</td>\n",
       "      <td>15</td>\n",
       "    </tr>\n",
       "    <tr>\n",
       "      <th>176</th>\n",
       "      <td>수분</td>\n",
       "      <td>13</td>\n",
       "    </tr>\n",
       "    <tr>\n",
       "      <th>161</th>\n",
       "      <td>냉장고</td>\n",
       "      <td>12</td>\n",
       "    </tr>\n",
       "    <tr>\n",
       "      <th>6</th>\n",
       "      <td>추천</td>\n",
       "      <td>10</td>\n",
       "    </tr>\n",
       "    <tr>\n",
       "      <th>11</th>\n",
       "      <td>느낌</td>\n",
       "      <td>10</td>\n",
       "    </tr>\n",
       "    <tr>\n",
       "      <th>95</th>\n",
       "      <td>쓰기</td>\n",
       "      <td>9</td>\n",
       "    </tr>\n",
       "    <tr>\n",
       "      <th>67</th>\n",
       "      <td>흡수</td>\n",
       "      <td>9</td>\n",
       "    </tr>\n",
       "    <tr>\n",
       "      <th>186</th>\n",
       "      <td>튜브</td>\n",
       "      <td>9</td>\n",
       "    </tr>\n",
       "    <tr>\n",
       "      <th>312</th>\n",
       "      <td>조금</td>\n",
       "      <td>8</td>\n",
       "    </tr>\n",
       "    <tr>\n",
       "      <th>187</th>\n",
       "      <td>수딩젤</td>\n",
       "      <td>8</td>\n",
       "    </tr>\n",
       "    <tr>\n",
       "      <th>295</th>\n",
       "      <td>아주</td>\n",
       "      <td>8</td>\n",
       "    </tr>\n",
       "    <tr>\n",
       "      <th>56</th>\n",
       "      <td>계속</td>\n",
       "      <td>7</td>\n",
       "    </tr>\n",
       "    <tr>\n",
       "      <th>76</th>\n",
       "      <td>한번</td>\n",
       "      <td>7</td>\n",
       "    </tr>\n",
       "    <tr>\n",
       "      <th>178</th>\n",
       "      <td>햇빛</td>\n",
       "      <td>7</td>\n",
       "    </tr>\n",
       "    <tr>\n",
       "      <th>246</th>\n",
       "      <td>여름철</td>\n",
       "      <td>6</td>\n",
       "    </tr>\n",
       "    <tr>\n",
       "      <th>248</th>\n",
       "      <td>부담</td>\n",
       "      <td>6</td>\n",
       "    </tr>\n",
       "    <tr>\n",
       "      <th>97</th>\n",
       "      <td>무난</td>\n",
       "      <td>6</td>\n",
       "    </tr>\n",
       "    <tr>\n",
       "      <th>210</th>\n",
       "      <td>발림</td>\n",
       "      <td>6</td>\n",
       "    </tr>\n",
       "    <tr>\n",
       "      <th>144</th>\n",
       "      <td>발라</td>\n",
       "      <td>6</td>\n",
       "    </tr>\n",
       "    <tr>\n",
       "      <th>0</th>\n",
       "      <td>가격</td>\n",
       "      <td>5</td>\n",
       "    </tr>\n",
       "  </tbody>\n",
       "</table>\n",
       "</div>"
      ],
      "text/plain": [
       "    word  word_cnt\n",
       "220   알로        71\n",
       "22    피부        37\n",
       "105   제품        36\n",
       "15    진정        36\n",
       "262  김정문        33\n",
       "195   사용        32\n",
       "179   구매        28\n",
       "136   여름        22\n",
       "94    얼굴        16\n",
       "211   자극        16\n",
       "202   효과        15\n",
       "176   수분        13\n",
       "161  냉장고        12\n",
       "6     추천        10\n",
       "11    느낌        10\n",
       "95    쓰기         9\n",
       "67    흡수         9\n",
       "186   튜브         9\n",
       "312   조금         8\n",
       "187  수딩젤         8\n",
       "295   아주         8\n",
       "56    계속         7\n",
       "76    한번         7\n",
       "178   햇빛         7\n",
       "246  여름철         6\n",
       "248   부담         6\n",
       "97    무난         6\n",
       "210   발림         6\n",
       "144   발라         6\n",
       "0     가격         5"
      ]
     },
     "execution_count": 12,
     "metadata": {},
     "output_type": "execute_result"
    }
   ],
   "source": [
    "df_word_count['word'] = word_list_1\n",
    "df_word_count['word_cnt'] =  word_cnt_list\n",
    "df_word_count = df_word_count.sort_values('word_cnt',ascending=False)\n",
    "df_word_count.head(30)\n",
    "\n"
   ]
  },
  {
   "cell_type": "code",
   "execution_count": 45,
   "id": "afba94c1",
   "metadata": {},
   "outputs": [],
   "source": [
    "import matplotlib.font_manager as fm\n",
    "font_path = \"C:/Users/won/Desktop/hangul_font.py\"\n",
    "\n",
    "fontprop = fm.FontProperties(fname=font_path, size=18)\n"
   ]
  },
  {
   "cell_type": "code",
   "execution_count": 46,
   "id": "53cc5dfb",
   "metadata": {},
   "outputs": [
    {
     "ename": "OSError",
     "evalue": "unknown file format",
     "output_type": "error",
     "traceback": [
      "\u001b[1;31m---------------------------------------------------------------------------\u001b[0m",
      "\u001b[1;31mOSError\u001b[0m                                   Traceback (most recent call last)",
      "Cell \u001b[1;32mIn[46], line 4\u001b[0m\n\u001b[0;32m      1\u001b[0m \u001b[38;5;28;01mfrom\u001b[39;00m \u001b[38;5;21;01mwordcloud\u001b[39;00m \u001b[38;5;28;01mimport\u001b[39;00m WordCloud\n\u001b[0;32m      3\u001b[0m wordcloud \u001b[38;5;241m=\u001b[39m WordCloud(background_color\u001b[38;5;241m=\u001b[39m\u001b[38;5;124m'\u001b[39m\u001b[38;5;124mwhite\u001b[39m\u001b[38;5;124m'\u001b[39m, font_path \u001b[38;5;241m=\u001b[39m font_path) \n\u001b[1;32m----> 4\u001b[0m \u001b[43mwordcloud\u001b[49m\u001b[38;5;241;43m.\u001b[39;49m\u001b[43mgenerate_from_frequencies\u001b[49m\u001b[43m(\u001b[49m\u001b[43mword_cloud_dict\u001b[49m\u001b[43m)\u001b[49m\n",
      "File \u001b[1;32m~\\anaconda3\\lib\\site-packages\\wordcloud\\wordcloud.py:453\u001b[0m, in \u001b[0;36mWordCloud.generate_from_frequencies\u001b[1;34m(self, frequencies, max_font_size)\u001b[0m\n\u001b[0;32m    451\u001b[0m     font_size \u001b[38;5;241m=\u001b[39m \u001b[38;5;28mself\u001b[39m\u001b[38;5;241m.\u001b[39mheight\n\u001b[0;32m    452\u001b[0m \u001b[38;5;28;01melse\u001b[39;00m:\n\u001b[1;32m--> 453\u001b[0m     \u001b[38;5;28;43mself\u001b[39;49m\u001b[38;5;241;43m.\u001b[39;49m\u001b[43mgenerate_from_frequencies\u001b[49m\u001b[43m(\u001b[49m\u001b[38;5;28;43mdict\u001b[39;49m\u001b[43m(\u001b[49m\u001b[43mfrequencies\u001b[49m\u001b[43m[\u001b[49m\u001b[43m:\u001b[49m\u001b[38;5;241;43m2\u001b[39;49m\u001b[43m]\u001b[49m\u001b[43m)\u001b[49m\u001b[43m,\u001b[49m\n\u001b[0;32m    454\u001b[0m \u001b[43m                                   \u001b[49m\u001b[43mmax_font_size\u001b[49m\u001b[38;5;241;43m=\u001b[39;49m\u001b[38;5;28;43mself\u001b[39;49m\u001b[38;5;241;43m.\u001b[39;49m\u001b[43mheight\u001b[49m\u001b[43m)\u001b[49m\n\u001b[0;32m    455\u001b[0m     \u001b[38;5;66;03m# find font sizes\u001b[39;00m\n\u001b[0;32m    456\u001b[0m     sizes \u001b[38;5;241m=\u001b[39m [x[\u001b[38;5;241m1\u001b[39m] \u001b[38;5;28;01mfor\u001b[39;00m x \u001b[38;5;129;01min\u001b[39;00m \u001b[38;5;28mself\u001b[39m\u001b[38;5;241m.\u001b[39mlayout_]\n",
      "File \u001b[1;32m~\\anaconda3\\lib\\site-packages\\wordcloud\\wordcloud.py:503\u001b[0m, in \u001b[0;36mWordCloud.generate_from_frequencies\u001b[1;34m(self, frequencies, max_font_size)\u001b[0m\n\u001b[0;32m    500\u001b[0m tried_other_orientation \u001b[38;5;241m=\u001b[39m \u001b[38;5;28;01mFalse\u001b[39;00m\n\u001b[0;32m    501\u001b[0m \u001b[38;5;28;01mwhile\u001b[39;00m \u001b[38;5;28;01mTrue\u001b[39;00m:\n\u001b[0;32m    502\u001b[0m     \u001b[38;5;66;03m# try to find a position\u001b[39;00m\n\u001b[1;32m--> 503\u001b[0m     font \u001b[38;5;241m=\u001b[39m \u001b[43mImageFont\u001b[49m\u001b[38;5;241;43m.\u001b[39;49m\u001b[43mtruetype\u001b[49m\u001b[43m(\u001b[49m\u001b[38;5;28;43mself\u001b[39;49m\u001b[38;5;241;43m.\u001b[39;49m\u001b[43mfont_path\u001b[49m\u001b[43m,\u001b[49m\u001b[43m \u001b[49m\u001b[43mfont_size\u001b[49m\u001b[43m)\u001b[49m\n\u001b[0;32m    504\u001b[0m     \u001b[38;5;66;03m# transpose font optionally\u001b[39;00m\n\u001b[0;32m    505\u001b[0m     transposed_font \u001b[38;5;241m=\u001b[39m ImageFont\u001b[38;5;241m.\u001b[39mTransposedFont(\n\u001b[0;32m    506\u001b[0m         font, orientation\u001b[38;5;241m=\u001b[39morientation)\n",
      "File \u001b[1;32m~\\anaconda3\\lib\\site-packages\\PIL\\ImageFont.py:1008\u001b[0m, in \u001b[0;36mtruetype\u001b[1;34m(font, size, index, encoding, layout_engine)\u001b[0m\n\u001b[0;32m   1005\u001b[0m     \u001b[38;5;28;01mreturn\u001b[39;00m FreeTypeFont(font, size, index, encoding, layout_engine)\n\u001b[0;32m   1007\u001b[0m \u001b[38;5;28;01mtry\u001b[39;00m:\n\u001b[1;32m-> 1008\u001b[0m     \u001b[38;5;28;01mreturn\u001b[39;00m \u001b[43mfreetype\u001b[49m\u001b[43m(\u001b[49m\u001b[43mfont\u001b[49m\u001b[43m)\u001b[49m\n\u001b[0;32m   1009\u001b[0m \u001b[38;5;28;01mexcept\u001b[39;00m \u001b[38;5;167;01mOSError\u001b[39;00m:\n\u001b[0;32m   1010\u001b[0m     \u001b[38;5;28;01mif\u001b[39;00m \u001b[38;5;129;01mnot\u001b[39;00m is_path(font):\n",
      "File \u001b[1;32m~\\anaconda3\\lib\\site-packages\\PIL\\ImageFont.py:1005\u001b[0m, in \u001b[0;36mtruetype.<locals>.freetype\u001b[1;34m(font)\u001b[0m\n\u001b[0;32m   1004\u001b[0m \u001b[38;5;28;01mdef\u001b[39;00m \u001b[38;5;21mfreetype\u001b[39m(font):\n\u001b[1;32m-> 1005\u001b[0m     \u001b[38;5;28;01mreturn\u001b[39;00m \u001b[43mFreeTypeFont\u001b[49m\u001b[43m(\u001b[49m\u001b[43mfont\u001b[49m\u001b[43m,\u001b[49m\u001b[43m \u001b[49m\u001b[43msize\u001b[49m\u001b[43m,\u001b[49m\u001b[43m \u001b[49m\u001b[43mindex\u001b[49m\u001b[43m,\u001b[49m\u001b[43m \u001b[49m\u001b[43mencoding\u001b[49m\u001b[43m,\u001b[49m\u001b[43m \u001b[49m\u001b[43mlayout_engine\u001b[49m\u001b[43m)\u001b[49m\n",
      "File \u001b[1;32m~\\anaconda3\\lib\\site-packages\\PIL\\ImageFont.py:255\u001b[0m, in \u001b[0;36mFreeTypeFont.__init__\u001b[1;34m(self, font, size, index, encoding, layout_engine)\u001b[0m\n\u001b[0;32m    253\u001b[0m                 load_from_bytes(f)\n\u001b[0;32m    254\u001b[0m             \u001b[38;5;28;01mreturn\u001b[39;00m\n\u001b[1;32m--> 255\u001b[0m     \u001b[38;5;28mself\u001b[39m\u001b[38;5;241m.\u001b[39mfont \u001b[38;5;241m=\u001b[39m \u001b[43mcore\u001b[49m\u001b[38;5;241;43m.\u001b[39;49m\u001b[43mgetfont\u001b[49m\u001b[43m(\u001b[49m\n\u001b[0;32m    256\u001b[0m \u001b[43m        \u001b[49m\u001b[43mfont\u001b[49m\u001b[43m,\u001b[49m\u001b[43m \u001b[49m\u001b[43msize\u001b[49m\u001b[43m,\u001b[49m\u001b[43m \u001b[49m\u001b[43mindex\u001b[49m\u001b[43m,\u001b[49m\u001b[43m \u001b[49m\u001b[43mencoding\u001b[49m\u001b[43m,\u001b[49m\u001b[43m \u001b[49m\u001b[43mlayout_engine\u001b[49m\u001b[38;5;241;43m=\u001b[39;49m\u001b[43mlayout_engine\u001b[49m\n\u001b[0;32m    257\u001b[0m \u001b[43m    \u001b[49m\u001b[43m)\u001b[49m\n\u001b[0;32m    258\u001b[0m \u001b[38;5;28;01melse\u001b[39;00m:\n\u001b[0;32m    259\u001b[0m     load_from_bytes(font)\n",
      "\u001b[1;31mOSError\u001b[0m: unknown file format"
     ]
    }
   ],
   "source": [
    "from wordcloud import WordCloud\n",
    "\n",
    "wordcloud = WordCloud(background_color='white', font_path = font_path) \n",
    "wordcloud.generate_from_frequencies(word_cloud_dict)"
   ]
  },
  {
   "cell_type": "code",
   "execution_count": 15,
   "id": "5adc0c2d",
   "metadata": {},
   "outputs": [
    {
     "name": "stdout",
     "output_type": "stream",
     "text": [
      "Collecting wordcloud\n",
      "  Downloading wordcloud-1.9.2-cp310-cp310-win_amd64.whl (152 kB)\n",
      "     -------------------------------------- 152.1/152.1 kB 9.5 MB/s eta 0:00:00\n",
      "Requirement already satisfied: pillow in c:\\users\\won\\anaconda3\\lib\\site-packages (from wordcloud) (9.4.0)\n",
      "Requirement already satisfied: matplotlib in c:\\users\\won\\anaconda3\\lib\\site-packages (from wordcloud) (3.7.0)\n",
      "Requirement already satisfied: numpy>=1.6.1 in c:\\users\\won\\anaconda3\\lib\\site-packages (from wordcloud) (1.23.5)\n",
      "Requirement already satisfied: contourpy>=1.0.1 in c:\\users\\won\\anaconda3\\lib\\site-packages (from matplotlib->wordcloud) (1.0.5)\n",
      "Requirement already satisfied: packaging>=20.0 in c:\\users\\won\\anaconda3\\lib\\site-packages (from matplotlib->wordcloud) (22.0)\n",
      "Requirement already satisfied: cycler>=0.10 in c:\\users\\won\\anaconda3\\lib\\site-packages (from matplotlib->wordcloud) (0.11.0)\n",
      "Requirement already satisfied: fonttools>=4.22.0 in c:\\users\\won\\anaconda3\\lib\\site-packages (from matplotlib->wordcloud) (4.25.0)\n",
      "Requirement already satisfied: python-dateutil>=2.7 in c:\\users\\won\\anaconda3\\lib\\site-packages (from matplotlib->wordcloud) (2.8.2)\n",
      "Requirement already satisfied: kiwisolver>=1.0.1 in c:\\users\\won\\anaconda3\\lib\\site-packages (from matplotlib->wordcloud) (1.4.4)\n",
      "Requirement already satisfied: pyparsing>=2.3.1 in c:\\users\\won\\anaconda3\\lib\\site-packages (from matplotlib->wordcloud) (3.0.9)\n",
      "Requirement already satisfied: six>=1.5 in c:\\users\\won\\anaconda3\\lib\\site-packages (from python-dateutil>=2.7->matplotlib->wordcloud) (1.16.0)\n",
      "Installing collected packages: wordcloud\n",
      "Successfully installed wordcloud-1.9.2\n"
     ]
    }
   ],
   "source": [
    "! pip install wordcloud"
   ]
  },
  {
   "cell_type": "code",
   "execution_count": 38,
   "id": "0b86228d",
   "metadata": {},
   "outputs": [
    {
     "data": {
      "text/plain": [
       "(600, 1000, 3)"
      ]
     },
     "execution_count": 38,
     "metadata": {},
     "output_type": "execute_result"
    }
   ],
   "source": [
    "import matplotlib.pyplot as plt\n",
    "word_cloud_array = word_cloud.to_array()\n",
    "word_cloud_array.shape"
   ]
  },
  {
   "cell_type": "code",
   "execution_count": 39,
   "id": "a5488912",
   "metadata": {},
   "outputs": [
    {
     "data": {
      "text/plain": [
       "(-0.5, 999.5, 599.5, -0.5)"
      ]
     },
     "execution_count": 39,
     "metadata": {},
     "output_type": "execute_result"
    },
    {
     "data": {
      "image/png": "[encoded data removed]",
      "text/plain": [
       "<Figure size 1200x600 with 1 Axes>"
      ]
     },
     "metadata": {},
     "output_type": "display_data"
    }
   ],
   "source": [
    "plt.figure(figsize=(12,6))\n",
    "plt.imshow(word_cloud_array)\n",
    "plt.axis('off')"
   ]
  },
  {
   "cell_type": "code",
   "execution_count": null,
   "id": "b1a7e0f8",
   "metadata": {},
   "outputs": [],
   "source": []
  },
  {
   "cell_type": "code",
   "execution_count": null,
   "id": "ff94ec2c",
   "metadata": {},
   "outputs": [],
   "source": []
  },
  {
   "cell_type": "code",
   "execution_count": null,
   "id": "0e99062c",
   "metadata": {},
   "outputs": [],
   "source": []
  },
  {
   "cell_type": "code",
   "execution_count": 13,
   "id": "3e588759",
   "metadata": {},
   "outputs": [],
   "source": [
    "# from sklearn.feature_extraction.text import CountVectorizer\n",
    "# #키워드 길이 지정\n",
    "# n_gram_range = (1,1)\n",
    "\n",
    "\n",
    "\n",
    "# a = len(review)\n",
    "\n",
    "# token_review_list = []\n",
    "# for i in range(0,a):\n",
    "#     review_vectorized = CountVectorizer(ngram_range = n_gram_range).fit([review[i]])\n",
    "#     token_review = review_vectorized.get_feature_names()\n",
    "    \n",
    "#     token_review_list.append(token_review)\n",
    "# pos_df['review_count'] = token_review_list\n",
    "    "
   ]
  },
  {
   "cell_type": "code",
   "execution_count": null,
   "id": "c986f99b",
   "metadata": {
    "scrolled": true
   },
   "outputs": [],
   "source": []
  },
  {
   "cell_type": "code",
   "execution_count": null,
   "id": "9422bb25",
   "metadata": {},
   "outputs": [],
   "source": []
  }
 ],
 "metadata": {
  "kernelspec": {
   "display_name": "Python 3 (ipykernel)",
   "language": "python",
   "name": "python3"
  },
  "language_info": {
   "codemirror_mode": {
    "name": "ipython",
    "version": 3
   },
   "file_extension": ".py",
   "mimetype": "text/x-python",
   "name": "python",
   "nbconvert_exporter": "python",
   "pygments_lexer": "ipython3",
   "version": "3.10.9"
  }
 },
 "nbformat": 4,
 "nbformat_minor": 5
}
