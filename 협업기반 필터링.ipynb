{
 "cells": [
  {
   "cell_type": "code",
   "execution_count": 1,
   "id": "52d14c98",
   "metadata": {},
   "outputs": [],
   "source": [
    "from surprise import KNNBasic, SVD, SVDpp, NMF\n",
    "from surprise import Dataset\n",
    "from surprise.model_selection import cross_validate"
   ]
  },
  {
   "cell_type": "code",
   "execution_count": 3,
   "id": "5e695b85",
   "metadata": {},
   "outputs": [],
   "source": [
    "data = Dataset.load_builtin('ml-100k',prompt=False)"
   ]
  },
  {
   "cell_type": "code",
   "execution_count": 4,
   "id": "45166942",
   "metadata": {},
   "outputs": [
    {
     "name": "stdout",
     "output_type": "stream",
     "text": [
      "Evaluating RMSE, MAE of algorithm KNNBasic on 5 split(s).\n",
      "\n",
      "                  Fold 1  Fold 2  Fold 3  Fold 4  Fold 5  Mean    Std     \n",
      "RMSE (testset)    0.9743  0.9856  0.9821  0.9759  0.9765  0.9789  0.0043  \n",
      "MAE (testset)     0.7667  0.7769  0.7775  0.7732  0.7700  0.7729  0.0041  \n",
      "Fit time          0.54    0.56    0.59    0.50    0.41    0.52    0.06    \n",
      "Test time         2.74    2.77    2.73    2.80    1.84    2.58    0.37    \n"
     ]
    },
    {
     "data": {
      "text/plain": [
       "{'test_rmse': array([0.97428571, 0.98563795, 0.98212817, 0.97587781, 0.97646681]),\n",
       " 'test_mae': array([0.76672589, 0.77690505, 0.77754588, 0.77315697, 0.77004413]),\n",
       " 'fit_time': (0.5427513122558594,\n",
       "  0.5561563968658447,\n",
       "  0.5944232940673828,\n",
       "  0.4958794116973877,\n",
       "  0.40613889694213867),\n",
       " 'test_time': (2.7355384826660156,\n",
       "  2.769327163696289,\n",
       "  2.7281248569488525,\n",
       "  2.8000528812408447,\n",
       "  1.8438465595245361)}"
      ]
     },
     "execution_count": 4,
     "metadata": {},
     "output_type": "execute_result"
    }
   ],
   "source": [
    "model = KNNBasic()\n",
    "cross_validate(model,data,measures=['rmse','mae'],cv=5,n_jobs=4, verbose=True) #MAE 방식 => 오차 절댓값의 평균, rmse=>오차 제곱의 평균"
   ]
  },
  {
   "cell_type": "code",
   "execution_count": 5,
   "id": "975700c2",
   "metadata": {},
   "outputs": [
    {
     "name": "stdout",
     "output_type": "stream",
     "text": [
      "Evaluating RMSE, MAE of algorithm SVD on 5 split(s).\n",
      "\n",
      "                  Fold 1  Fold 2  Fold 3  Fold 4  Fold 5  Mean    Std     \n",
      "RMSE (testset)    0.9343  0.9367  0.9302  0.9392  0.9404  0.9362  0.0036  \n",
      "MAE (testset)     0.7357  0.7362  0.7356  0.7413  0.7407  0.7379  0.0025  \n",
      "Fit time          2.00    2.07    2.05    1.96    1.58    1.93    0.18    \n",
      "Test time         0.42    0.46    0.49    0.46    0.34    0.43    0.05    \n"
     ]
    },
    {
     "data": {
      "text/plain": [
       "{'test_rmse': array([0.93432352, 0.93674927, 0.93024403, 0.9392273 , 0.94041727]),\n",
       " 'test_mae': array([0.73571976, 0.73622395, 0.73557666, 0.74125281, 0.74074761]),\n",
       " 'fit_time': (2.0034470558166504,\n",
       "  2.0683043003082275,\n",
       "  2.0451972484588623,\n",
       "  1.960634469985962,\n",
       "  1.5801100730895996),\n",
       " 'test_time': (0.42157506942749023,\n",
       "  0.4622609615325928,\n",
       "  0.48775529861450195,\n",
       "  0.45566725730895996,\n",
       "  0.34079456329345703)}"
      ]
     },
     "execution_count": 5,
     "metadata": {},
     "output_type": "execute_result"
    }
   ],
   "source": [
    "model = SVD()\n",
    "cross_validate(model,data,measures=['rmse','mae'],cv=5,n_jobs=4, verbose=True)"
   ]
  },
  {
   "cell_type": "code",
   "execution_count": 6,
   "id": "13d5794c",
   "metadata": {},
   "outputs": [
    {
     "name": "stdout",
     "output_type": "stream",
     "text": [
      "Evaluating RMSE, MAE of algorithm NMF on 5 split(s).\n",
      "\n",
      "                  Fold 1  Fold 2  Fold 3  Fold 4  Fold 5  Mean    Std     \n",
      "RMSE (testset)    0.9666  0.9707  0.9568  0.9641  0.9609  0.9638  0.0048  \n",
      "MAE (testset)     0.7605  0.7616  0.7537  0.7580  0.7564  0.7580  0.0028  \n",
      "Fit time          2.64    2.82    2.82    2.87    2.05    2.64    0.31    \n",
      "Test time         0.41    0.50    0.35    0.32    0.30    0.37    0.07    \n"
     ]
    },
    {
     "data": {
      "text/plain": [
       "{'test_rmse': array([0.96664512, 0.9707286 , 0.95676104, 0.96407296, 0.96093128]),\n",
       " 'test_mae': array([0.76051183, 0.76157128, 0.7537178 , 0.75804821, 0.75635045]),\n",
       " 'fit_time': (2.6380879878997803,\n",
       "  2.815760374069214,\n",
       "  2.8217859268188477,\n",
       "  2.8747763633728027,\n",
       "  2.049285888671875),\n",
       " 'test_time': (0.4059436321258545,\n",
       "  0.5038657188415527,\n",
       "  0.34634828567504883,\n",
       "  0.31717419624328613,\n",
       "  0.30109429359436035)}"
      ]
     },
     "execution_count": 6,
     "metadata": {},
     "output_type": "execute_result"
    }
   ],
   "source": [
    "model = NMF()#음수 미포함 행렬 분해\n",
    "cross_validate(model,data,measures=['rmse','mae'],cv=5,n_jobs=4, verbose=True)"
   ]
  },
  {
   "cell_type": "code",
   "execution_count": 8,
   "id": "97a7e5d6",
   "metadata": {},
   "outputs": [
    {
     "name": "stdout",
     "output_type": "stream",
     "text": [
      "Evaluating RMSE, MAE of algorithm SVDpp on 5 split(s).\n",
      "\n",
      "                  Fold 1  Fold 2  Fold 3  Fold 4  Fold 5  Mean    Std     \n",
      "RMSE (testset)    0.9194  0.9240  0.9219  0.9166  0.9246  0.9213  0.0030  \n",
      "MAE (testset)     0.7219  0.7251  0.7219  0.7212  0.7250  0.7230  0.0017  \n",
      "Fit time          49.08   48.47   48.03   48.33   36.55   46.09   4.78    \n",
      "Test time         9.36    9.24    9.54    9.31    7.38    8.97    0.80    \n"
     ]
    },
    {
     "data": {
      "text/plain": [
       "{'test_rmse': array([0.91941601, 0.92395641, 0.92192326, 0.91661616, 0.92464482]),\n",
       " 'test_mae': array([0.72188492, 0.72509244, 0.72186078, 0.7211524 , 0.72495968]),\n",
       " 'fit_time': (49.08102250099182,\n",
       "  48.47411799430847,\n",
       "  48.028878688812256,\n",
       "  48.332727909088135,\n",
       "  36.54990911483765),\n",
       " 'test_time': (9.357846736907959,\n",
       "  9.244680643081665,\n",
       "  9.54280686378479,\n",
       "  9.314441680908203,\n",
       "  7.383686304092407)}"
      ]
     },
     "execution_count": 8,
     "metadata": {},
     "output_type": "execute_result"
    }
   ],
   "source": [
    "model = SVDpp()\n",
    "cross_validate(model,data,measures=['rmse','mae'],cv=5,n_jobs=4, verbose=True)"
   ]
  },
  {
   "cell_type": "markdown",
   "id": "d47f40c6",
   "metadata": {},
   "source": [
    "#하이브리드 "
   ]
  },
  {
   "cell_type": "code",
   "execution_count": 9,
   "id": "c9d8a01d",
   "metadata": {},
   "outputs": [],
   "source": [
    "import numpy as np\n",
    "from sklearn.decomposition import randomized_svd,non_negative_factorization\n",
    "from surprise import Dataset"
   ]
  },
  {
   "cell_type": "code",
   "execution_count": 15,
   "id": "79543313",
   "metadata": {},
   "outputs": [],
   "source": [
    "data =  Dataset.load_builtin('ml-100k',prompt=False)\n",
    "raw_data = np.array(data.raw_ratings,dtype=int)\n",
    "raw_data[:,0] -= 1\n",
    "raw_data[:,1] -= 1"
   ]
  },
  {
   "cell_type": "code",
   "execution_count": 16,
   "id": "f66b4444",
   "metadata": {},
   "outputs": [
    {
     "data": {
      "text/plain": [
       "(943, 1682)"
      ]
     },
     "execution_count": 16,
     "metadata": {},
     "output_type": "execute_result"
    }
   ],
   "source": [
    "n_users = np.max(raw_data[:,0])\n",
    "n_movies = np.max(raw_data[:,1])\n",
    "shape = (n_users+1,n_movies+1)\n",
    "shape"
   ]
  },
  {
   "cell_type": "code",
   "execution_count": 17,
   "id": "77c5bf39",
   "metadata": {},
   "outputs": [],
   "source": [
    "adj_matrix = np.ndarray(shape, dtype=int)\n",
    "for user_id,movie_id,rating,time in raw_data:\n",
    "    adj_matrix[user_id][movie_id] = rating"
   ]
  },
  {
   "cell_type": "code",
   "execution_count": 18,
   "id": "bfefda1b",
   "metadata": {},
   "outputs": [
    {
     "data": {
      "text/plain": [
       "array([[5, 3, 4, ..., 0, 0, 0],\n",
       "       [4, 0, 0, ..., 0, 0, 0],\n",
       "       [0, 0, 0, ..., 0, 0, 0],\n",
       "       ...,\n",
       "       [5, 0, 0, ..., 0, 0, 0],\n",
       "       [0, 0, 0, ..., 0, 0, 0],\n",
       "       [0, 5, 0, ..., 0, 0, 0]])"
      ]
     },
     "execution_count": 18,
     "metadata": {},
     "output_type": "execute_result"
    }
   ],
   "source": [
    "adj_matrix"
   ]
  },
  {
   "cell_type": "code",
   "execution_count": 19,
   "id": "55129a34",
   "metadata": {},
   "outputs": [
    {
     "name": "stderr",
     "output_type": "stream",
     "text": [
      "C:\\Users\\won\\anaconda3\\lib\\site-packages\\sklearn\\utils\\extmath.py:370: FutureWarning: If 'random_state' is not supplied, the current default is to use 0 as a fixed seed. This will change to  None in version 1.2 leading to non-deterministic results that better reflect nature of the randomized_svd solver. If you want to silence this warning, set 'random_state' to an integer seed or to None explicitly depending if you want your code to be deterministic or not.\n",
      "  warnings.warn(\n"
     ]
    }
   ],
   "source": [
    "U, S, V = randomized_svd(adj_matrix, n_components=2)\n",
    "S = np.diag(S)"
   ]
  },
  {
   "cell_type": "code",
   "execution_count": 20,
   "id": "fa0d1785",
   "metadata": {},
   "outputs": [
    {
     "name": "stdout",
     "output_type": "stream",
     "text": [
      "(943, 2)\n",
      "(2, 2)\n",
      "(2, 1682)\n"
     ]
    }
   ],
   "source": [
    "print(U.shape)\n",
    "print(S.shape)\n",
    "print(V.shape)"
   ]
  },
  {
   "cell_type": "code",
   "execution_count": 24,
   "id": "3bd73ae7",
   "metadata": {
    "scrolled": true
   },
   "outputs": [
    {
     "data": {
      "text/plain": [
       "array([[ 0.06580431,  0.00597507],\n",
       "       [ 0.01402104, -0.04662601],\n",
       "       [ 0.00565798, -0.02561846],\n",
       "       ...,\n",
       "       [ 0.00744452, -0.02502129],\n",
       "       [ 0.02403119,  0.0080961 ],\n",
       "       [ 0.04224209, -0.01092715]])"
      ]
     },
     "execution_count": 24,
     "metadata": {},
     "output_type": "execute_result"
    }
   ],
   "source": [
    "U"
   ]
  },
  {
   "cell_type": "code",
   "execution_count": 22,
   "id": "0663c105",
   "metadata": {},
   "outputs": [],
   "source": [
    "def compute_cos_similarity(v1,v2):\n",
    "    norm1 = np.sqrt(np.sum(np.square(v1)))\n",
    "    norm2 = np.sqrt(np.sum(np.square(v2)))#sqrt = 루트,square=제곱\n",
    "    dot = np.dot(v1,v2)\n",
    "    return dot/(norm1*norm2)"
   ]
  },
  {
   "cell_type": "code",
   "execution_count": 25,
   "id": "db548a81",
   "metadata": {},
   "outputs": [
    {
     "name": "stdout",
     "output_type": "stream",
     "text": [
      "Best Match:0.9999942295956322, Best Match ID:235\n"
     ]
    }
   ],
   "source": [
    "#사용자 기반 추천\n",
    "my_id, my_vector = 0, U[0]\n",
    "best_match, best_match_id, best_match_vector =-1,-1,[]\n",
    "\n",
    "for user_id, user_vector in enumerate(U):\n",
    "    if my_id != user_id:\n",
    "        cos_similarity = compute_cos_similarity(my_vector,user_vector)\n",
    "        if cos_similarity > best_match:\n",
    "            best_match = cos_similarity\n",
    "            best_match_id = user_id\n",
    "            best_match_vector = user_vector\n",
    "            \n",
    "print(\"Best Match:{}, Best Match ID:{}\".format(best_match, best_match_id))"
   ]
  },
  {
   "cell_type": "code",
   "execution_count": 26,
   "id": "4f0f4237",
   "metadata": {},
   "outputs": [
    {
     "name": "stdout",
     "output_type": "stream",
     "text": [
      "[272, 273, 274, 281, 285, 288, 293, 297, 303, 306, 312, 317, 327, 332, 369, 410, 418, 419, 422, 426, 428, 431, 434, 442, 461, 475, 477, 482, 495, 503, 504, 505, 506, 509, 519, 520, 522, 525, 531, 545, 548, 590, 594, 595, 613, 631, 654, 658, 660, 672, 684, 685, 691, 695, 698, 704, 716, 728, 734, 749, 755, 863, 865, 933, 1012, 1038, 1101, 1327, 1400]\n"
     ]
    }
   ],
   "source": [
    "#915번은 봤지만 나는 안 본 영화 추천\n",
    "recommend_list=[]\n",
    "for i,log in enumerate(zip(adj_matrix[my_id], adj_matrix[best_match_id])):\n",
    "    log1,log2 = log\n",
    "    if log1<1 and log2>0.:\n",
    "        recommend_list.append(i)\n",
    "print(recommend_list)"
   ]
  },
  {
   "cell_type": "code",
   "execution_count": 34,
   "id": "c9d881d2",
   "metadata": {},
   "outputs": [
    {
     "name": "stdout",
     "output_type": "stream",
     "text": [
      "Best Match:0.9999999951364141, Best Match ID:1287\n"
     ]
    }
   ],
   "source": [
    "#사물기반 추천\n",
    "my_id, my_vector = 0, V.T[0]\n",
    "best_match, best_match_id, best_match_vector =-1,-1,[]\n",
    "\n",
    "for user_id, user_vector in enumerate(V.T):\n",
    "    if my_id != user_id:\n",
    "        cos_similarity = compute_cos_similarity(my_vector,user_vector)\n",
    "        if cos_similarity > best_match:\n",
    "            best_match = cos_similarity\n",
    "            best_match_id = user_id\n",
    "            best_match_vector = user_vector\n",
    "            \n",
    "print(\"Best Match:{}, Best Match ID:{}\".format(best_match, best_match_id))"
   ]
  },
  {
   "cell_type": "code",
   "execution_count": 35,
   "id": "a6b307ea",
   "metadata": {},
   "outputs": [
    {
     "name": "stdout",
     "output_type": "stream",
     "text": [
      "[0, 1, 4, 5, 9, 12, 14, 15, 16, 17, 19, 20, 22, 24, 25, 37, 40, 41, 42, 43, 44, 48, 53, 55, 56, 57, 58, 61, 62, 63, 64, 65, 66, 69, 71, 72, 74, 76, 78, 80, 81, 82, 83, 88, 91, 92, 93, 94, 95, 96, 98, 100, 101, 105, 107, 108, 116, 119, 120, 123, 124, 127, 129, 130, 133, 136, 137, 140, 143, 144, 147, 149, 150, 156, 157, 159, 161, 167, 173, 176, 177, 180, 181, 183, 188, 192, 193, 197, 198, 199, 200, 201, 202, 203, 208, 209, 212, 215, 221, 222, 229, 230, 231, 233, 234, 241, 242, 243, 245, 246, 247, 248, 249, 250, 251, 252, 253, 255, 261, 262, 264, 267, 270, 273, 274, 275, 276, 278, 279, 285, 286, 288, 289, 290, 291, 292, 293, 294, 295, 296, 297, 298, 300, 302, 304, 306, 307, 310, 311, 312, 313, 319, 321, 323, 324, 325, 326, 329, 330, 331, 335, 337, 338, 339, 342, 343, 344, 346, 347, 349, 356, 358, 359, 362, 364, 370, 373, 377, 378, 379, 380, 386, 387, 388, 389, 392, 393, 394, 395, 397, 398, 400, 401, 402, 405, 406, 410, 411, 415, 416, 418, 421, 423, 424, 428, 431, 433, 434, 437, 440, 444, 446, 449, 453, 454, 455, 456, 457, 458, 459, 462, 464, 466, 467, 469, 470, 471, 477, 478, 482, 483, 485, 486, 487, 489, 492, 493, 494, 496, 499, 502, 504, 507, 511, 513, 516, 517, 520, 522, 524, 525, 531, 532, 533, 534, 535, 536, 539, 540, 541, 544, 547, 548, 549, 551, 552, 553, 559, 560, 561, 566, 568, 575, 576, 578, 579, 581, 587, 591, 592, 596, 598, 601, 604, 605, 608, 609, 611, 612, 613, 617, 619, 620, 621, 623, 629, 631, 633, 634, 635, 636, 641, 642, 647, 648, 649, 652, 653, 654, 656, 657, 659, 660, 662, 663, 664, 668, 673, 675, 676, 677, 678, 679, 681, 683, 688, 689, 690, 691, 696, 697, 698, 700, 702, 704, 705, 707, 708, 709, 713, 714, 715, 720, 722, 725, 726, 729, 730, 732, 734, 737, 741, 743, 744, 745, 746, 747, 748, 750, 755, 756, 758, 760, 762, 763, 766, 767, 768, 769, 770, 772, 776, 778, 784, 785, 787, 788, 789, 791, 792, 793, 794, 795, 797, 799, 803, 804, 805, 806, 814, 816, 820, 821, 822, 825, 828, 829, 830, 834, 837, 838, 842, 846, 851, 853, 863, 864, 866, 867, 869, 871, 878, 879, 880, 881, 882, 884, 885, 886, 888, 889, 891, 892, 893, 894, 895, 896, 898, 900, 901, 902, 906, 909, 912, 915, 916, 917, 918, 920, 921, 922, 923, 926, 928, 929, 931, 932, 933, 934, 935, 937, 940]\n"
     ]
    }
   ],
   "source": [
    "recommend_list=[]\n",
    "for i,user_vector in enumerate(adj_matrix):\n",
    "    \n",
    "    if adj_matrix[i][my_id]>0.9:\n",
    "        recommend_list.append(i)\n",
    "print(recommend_list)"
   ]
  },
  {
   "cell_type": "code",
   "execution_count": 29,
   "id": "6a453ff7",
   "metadata": {},
   "outputs": [],
   "source": [
    "A,B,iter = non_negative_factorization(adj_matrix,n_components=2)"
   ]
  },
  {
   "cell_type": "code",
   "execution_count": 30,
   "id": "b2667dd2",
   "metadata": {},
   "outputs": [
    {
     "data": {
      "text/plain": [
       "array([[3.71107433e+00, 1.48461856e+00, 7.39541570e-01, ...,\n",
       "        3.64501983e-03, 1.45513751e-02, 1.44116215e-02],\n",
       "       [2.11729713e+00, 2.37145679e-01, 5.51637757e-01, ...,\n",
       "        4.76290749e-03, 2.84605930e-05, 0.00000000e+00],\n",
       "       [9.85325089e-01, 1.10360320e-01, 2.56715279e-01, ...,\n",
       "        2.21651094e-03, 1.32446863e-05, 0.00000000e+00],\n",
       "       ...,\n",
       "       [1.04478344e+00, 1.17019891e-01, 2.72206478e-01, ...,\n",
       "        2.35026384e-03, 1.40439223e-05, 0.00000000e+00],\n",
       "       [1.45769331e+00, 5.42108391e-01, 2.99217251e-01, ...,\n",
       "        1.61232500e-03, 5.15892655e-03, 5.10748255e-03],\n",
       "       [2.44709957e+00, 9.41278705e-01, 4.95671746e-01, ...,\n",
       "        2.56934867e-03, 9.08400301e-03, 8.99501717e-03]])"
      ]
     },
     "execution_count": 30,
     "metadata": {},
     "output_type": "execute_result"
    }
   ],
   "source": [
    "np.matmul(A,B)"
   ]
  },
  {
   "cell_type": "code",
   "execution_count": 31,
   "id": "a8a46b85",
   "metadata": {},
   "outputs": [
    {
     "name": "stdout",
     "output_type": "stream",
     "text": [
      "Best Match:0.9999942295956322, Best Match ID:235\n"
     ]
    }
   ],
   "source": [
    "#사용자 기반 추천\n",
    "my_id, my_vector = 0, U[0]\n",
    "best_match, best_match_id, best_match_vector =-1,-1,[]\n",
    "\n",
    "for user_id, user_vector in enumerate(U):\n",
    "    if my_id != user_id:\n",
    "        cos_similarity = compute_cos_similarity(my_vector,user_vector)\n",
    "        if cos_similarity > best_match:\n",
    "            best_match = cos_similarity\n",
    "            best_match_id = user_id\n",
    "            best_match_vector = user_vector\n",
    "            \n",
    "print(\"Best Match:{}, Best Match ID:{}\".format(best_match, best_match_id))"
   ]
  },
  {
   "cell_type": "code",
   "execution_count": 32,
   "id": "8a427445",
   "metadata": {},
   "outputs": [
    {
     "name": "stdout",
     "output_type": "stream",
     "text": [
      "[272, 273, 274, 281, 285, 288, 293, 297, 303, 306, 312, 317, 327, 332, 369, 410, 418, 419, 422, 426, 428, 431, 434, 442, 461, 475, 477, 482, 495, 503, 504, 505, 506, 509, 519, 520, 522, 525, 531, 545, 548, 590, 594, 595, 613, 631, 654, 658, 660, 672, 684, 685, 691, 695, 698, 704, 716, 728, 734, 749, 755, 863, 865, 933, 1012, 1038, 1101, 1327, 1400]\n"
     ]
    }
   ],
   "source": [
    "recommend_list=[]\n",
    "for i,log in enumerate(zip(adj_matrix[my_id], adj_matrix[best_match_id])):\n",
    "    log1,log2 = log\n",
    "    if log1<1 and log2>0.:\n",
    "        recommend_list.append(i)\n",
    "print(recommend_list)"
   ]
  },
  {
   "cell_type": "code",
   "execution_count": null,
   "id": "c5638404",
   "metadata": {},
   "outputs": [],
   "source": []
  },
  {
   "cell_type": "code",
   "execution_count": null,
   "id": "6d5a7c47",
   "metadata": {},
   "outputs": [],
   "source": []
  },
  {
   "cell_type": "code",
   "execution_count": null,
   "id": "df7d5dba",
   "metadata": {},
   "outputs": [],
   "source": []
  },
  {
   "cell_type": "code",
   "execution_count": 33,
   "id": "546c7eac",
   "metadata": {},
   "outputs": [
    {
     "name": "stdout",
     "output_type": "stream",
     "text": [
      "Best Match:0.9999999758529563, Best Match ID:873\n"
     ]
    }
   ],
   "source": [
    "#사용자 기반 추천\n",
    "my_id, my_vector = 0, V.T[0]\n",
    "best_match, best_match_id, best_match_vector =-1,-1,[]\n",
    "\n",
    "for user_id, user_vector in enumerate(V.T):\n",
    "    if my_id != user_id:\n",
    "        cos_similarity = compute_cos_similarity(my_vector,user_vector)\n",
    "        if cos_similarity > best_match:\n",
    "            best_match = cos_similarity\n",
    "            best_match_id = user_id\n",
    "            best_match_vector = user_vector\n",
    "            \n",
    "print(\"Best Match:{}, Best Match ID:{}\".format(best_match, best_match_id))"
   ]
  },
  {
   "cell_type": "code",
   "execution_count": null,
   "id": "14336462",
   "metadata": {},
   "outputs": [],
   "source": [
    "recommend_list=[]\n",
    "for i,log in enumerate(zip(adj_matrix[my_id], adj_matrix[best_match_id])):\n",
    "    log1,log2 = log\n",
    "    if log1<1 and log2>0.:\n",
    "        recommend_list.append(i)\n",
    "print(recommend_list)"
   ]
  },
  {
   "cell_type": "code",
   "execution_count": null,
   "id": "1dbcb44d",
   "metadata": {},
   "outputs": [],
   "source": []
  },
  {
   "cell_type": "code",
   "execution_count": null,
   "id": "055dd244",
   "metadata": {},
   "outputs": [],
   "source": []
  },
  {
   "cell_type": "code",
   "execution_count": null,
   "id": "49e4b713",
   "metadata": {},
   "outputs": [],
   "source": []
  },
  {
   "cell_type": "code",
   "execution_count": null,
   "id": "15c9c904",
   "metadata": {},
   "outputs": [],
   "source": []
  }
 ],
 "metadata": {
  "kernelspec": {
   "display_name": "Python 3 (ipykernel)",
   "language": "python",
   "name": "python3"
  },
  "language_info": {
   "codemirror_mode": {
    "name": "ipython",
    "version": 3
   },
   "file_extension": ".py",
   "mimetype": "text/x-python",
   "name": "python",
   "nbconvert_exporter": "python",
   "pygments_lexer": "ipython3",
   "version": "3.10.9"
  }
 },
 "nbformat": 4,
 "nbformat_minor": 5
}
